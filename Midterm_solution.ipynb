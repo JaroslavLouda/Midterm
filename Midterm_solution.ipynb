{
 "cells": [
  {
   "cell_type": "code",
   "execution_count": 81,
   "id": "488fd8c0-7ddb-4d90-a19e-6181a54eeb74",
   "metadata": {
    "tags": []
   },
   "outputs": [],
   "source": [
    "import pandas as pd\n",
    "import numpy as np\n",
    "import statistics"
   ]
  },
  {
   "cell_type": "code",
   "execution_count": 82,
   "id": "27efbb1d-ef90-4279-9fab-86dad6b785cd",
   "metadata": {
    "tags": []
   },
   "outputs": [],
   "source": [
    "CSX = pd.read_csv(\"./data/CSX.csv\",index_col=['Date'])\n",
    "EPAM = pd.read_csv(\"./data/EPAM.csv\",index_col=['Date'])\n",
    "EQIX = pd.read_csv(\"./data/EQIX.csv\",index_col=['Date'])\n",
    "HLT = pd.read_csv(\"./data/HLT.csv\",index_col=['Date'])\n",
    "VZ = pd.read_csv(\"./data/VZ.csv\",index_col=['Date'])"
   ]
  },
  {
   "cell_type": "code",
   "execution_count": 83,
   "id": "4f73d0cd-0d86-4352-b240-768147e5cf15",
   "metadata": {
    "tags": []
   },
   "outputs": [],
   "source": [
    "tickers = [CSX, EPAM, EQIX, HLT, VZ]"
   ]
  },
  {
   "cell_type": "code",
   "execution_count": 84,
   "id": "55ac78b8-dde8-490c-93cf-9d9a1d10af0a",
   "metadata": {
    "tags": []
   },
   "outputs": [
    {
     "name": "stdout",
     "output_type": "stream",
     "text": [
      "                 High        Low       Open      Close      Volume  Adj Close\n",
      "Date                                                                         \n",
      "2017-11-13  16.656668  16.263332  16.453333  16.583332  14740800.0  15.776852\n",
      "2017-11-14  16.540001  16.333332  16.486668  16.466667  13259100.0  15.665861\n",
      "2017-11-15  16.446667  16.086666  16.420000  16.209999  15861300.0  15.421674\n",
      "2017-11-16  16.716667  16.113333  16.236668  16.706667  21616800.0  15.894188\n",
      "2017-11-17  16.690001  16.500000  16.653334  16.639999  18522300.0  15.830764\n",
      "                  High         Low        Open       Close  Volume   Adj Close\n",
      "Date                                                                          \n",
      "2017-11-13  102.510002  100.120003  101.889999  102.370003  274300  102.370003\n",
      "2017-11-14  103.070000  101.510002  101.800003  102.610001  178200  102.610001\n",
      "2017-11-15  103.389999  100.879997  102.709999  102.629997  246600  102.629997\n",
      "2017-11-16  104.320000  103.160004  103.230003  103.610001  211100  103.610001\n",
      "2017-11-17  104.209999  102.489998  103.160004  103.699997  183400  103.699997\n",
      "                  High         Low        Open       Close    Volume  \\\n",
      "Date                                                                   \n",
      "2017-11-13  485.920013  478.540009  481.910004  484.119995  428400.0   \n",
      "2017-11-14  484.309998  478.320007  480.070007  481.049988  278000.0   \n",
      "2017-11-15  483.440002  473.519989  479.369995  474.420013  312900.0   \n",
      "2017-11-16  477.399994  473.339996  474.899994  475.089996  528400.0   \n",
      "2017-11-17  475.630005  470.010010  473.739990  472.799988  297700.0   \n",
      "\n",
      "             Adj Close  \n",
      "Date                    \n",
      "2017-11-13  451.311035  \n",
      "2017-11-14  450.309448  \n",
      "2017-11-15  444.103149  \n",
      "2017-11-16  444.730347  \n",
      "2017-11-17  442.586700  \n",
      "                 High        Low       Open      Close     Volume  Adj Close\n",
      "Date                                                                        \n",
      "2017-11-13  72.720001  72.250000  72.449997  72.620003  1819800.0  71.340454\n",
      "2017-11-14  72.970001  71.870003  71.930000  72.910004  1810500.0  71.625351\n",
      "2017-11-15  73.680000  72.190002  72.529999  73.379997  2939000.0  72.087067\n",
      "2017-11-16  74.309998  73.279999  73.750000  74.019997  1829100.0  72.864723\n",
      "2017-11-17  74.440002  73.959999  74.050003  74.110001  2443900.0  72.953339\n",
      "                 High        Low       Open      Close      Volume  Adj Close\n",
      "Date                                                                         \n",
      "2017-11-13  45.080002  44.700001  44.919998  44.750000  16673900.0  37.120651\n",
      "2017-11-14  44.849998  44.150002  44.689999  44.220001  20829900.0  36.681019\n",
      "2017-11-15  44.380001  43.970001  44.330002  44.110001  15726500.0  36.589767\n",
      "2017-11-16  44.880001  44.110001  44.209999  44.770000  13818000.0  37.137245\n",
      "2017-11-17  45.770000  44.619999  44.630001  45.419998  18933200.0  37.676422\n"
     ]
    }
   ],
   "source": [
    "for i in tickers:\n",
    "    print(i.head())"
   ]
  },
  {
   "cell_type": "code",
   "execution_count": 85,
   "id": "32d7f8e1-63c3-4d9d-abdd-66b1f7dd8ee9",
   "metadata": {
    "tags": []
   },
   "outputs": [
    {
     "name": "stdout",
     "output_type": "stream",
     "text": [
      "889\n",
      "0\n",
      "882\n",
      "574\n",
      "1045\n"
     ]
    }
   ],
   "source": [
    "for i in tickers:\n",
    "    print(sum(i[\"Close\"] != i[\"Adj Close\"]))"
   ]
  },
  {
   "cell_type": "markdown",
   "id": "736fb656-b62d-45b6-b756-1a794f81e678",
   "metadata": {},
   "source": [
    "The prices are equal for EPAM stock. Therefore, there were no stock splits and dividends realized."
   ]
  },
  {
   "cell_type": "code",
   "execution_count": 86,
   "id": "945e3894-f351-4720-a5b9-93496fa32fbd",
   "metadata": {
    "tags": []
   },
   "outputs": [
    {
     "name": "stdout",
     "output_type": "stream",
     "text": [
      "max    37.799999\n",
      "min    15.421674\n",
      "Name: Adj Close, dtype: float64\n",
      "max    717.489990\n",
      "min     97.080002\n",
      "Name: Adj Close, dtype: float64\n",
      "max    882.830017\n",
      "min    324.682831\n",
      "Name: Adj Close, dtype: float64\n",
      "max    163.139999\n",
      "min     55.939999\n",
      "Name: Adj Close, dtype: float64\n",
      "max    58.360912\n",
      "min    35.349998\n",
      "Name: Adj Close, dtype: float64\n"
     ]
    }
   ],
   "source": [
    "for i in tickers:\n",
    "    print(i[\"Adj Close\"].agg([max, min]))"
   ]
  },
  {
   "cell_type": "code",
   "execution_count": 87,
   "id": "9d5ab977-85de-4275-83a3-30aa3377fb23",
   "metadata": {
    "tags": []
   },
   "outputs": [
    {
     "name": "stdout",
     "output_type": "stream",
     "text": [
      "                 High        Low       Open      Close      Volume  Adj Close  \\\n",
      "Date                                                                            \n",
      "2017-11-13  16.656668  16.263332  16.453333  16.583332  14740800.0  15.776852   \n",
      "2017-11-14  16.540001  16.333332  16.486668  16.466667  13259100.0  15.665861   \n",
      "2017-11-15  16.446667  16.086666  16.420000  16.209999  15861300.0  15.421674   \n",
      "2017-11-16  16.716667  16.113333  16.236668  16.706667  21616800.0  15.894188   \n",
      "2017-11-17  16.690001  16.500000  16.653334  16.639999  18522300.0  15.830764   \n",
      "\n",
      "            log_return  \n",
      "Date                    \n",
      "2017-11-13         NaN  \n",
      "2017-11-14   -0.007060  \n",
      "2017-11-15   -0.015710  \n",
      "2017-11-16    0.030180  \n",
      "2017-11-17   -0.003998  \n",
      "                  High         Low        Open       Close  Volume  \\\n",
      "Date                                                                 \n",
      "2017-11-13  102.510002  100.120003  101.889999  102.370003  274300   \n",
      "2017-11-14  103.070000  101.510002  101.800003  102.610001  178200   \n",
      "2017-11-15  103.389999  100.879997  102.709999  102.629997  246600   \n",
      "2017-11-16  104.320000  103.160004  103.230003  103.610001  211100   \n",
      "2017-11-17  104.209999  102.489998  103.160004  103.699997  183400   \n",
      "\n",
      "             Adj Close  log_return  \n",
      "Date                                \n",
      "2017-11-13  102.370003         NaN  \n",
      "2017-11-14  102.610001    0.002342  \n",
      "2017-11-15  102.629997    0.000195  \n",
      "2017-11-16  103.610001    0.009504  \n",
      "2017-11-17  103.699997    0.000868  \n",
      "                  High         Low        Open       Close    Volume  \\\n",
      "Date                                                                   \n",
      "2017-11-13  485.920013  478.540009  481.910004  484.119995  428400.0   \n",
      "2017-11-14  484.309998  478.320007  480.070007  481.049988  278000.0   \n",
      "2017-11-15  483.440002  473.519989  479.369995  474.420013  312900.0   \n",
      "2017-11-16  477.399994  473.339996  474.899994  475.089996  528400.0   \n",
      "2017-11-17  475.630005  470.010010  473.739990  472.799988  297700.0   \n",
      "\n",
      "             Adj Close  log_return  \n",
      "Date                                \n",
      "2017-11-13  451.311035         NaN  \n",
      "2017-11-14  450.309448   -0.002222  \n",
      "2017-11-15  444.103149   -0.013878  \n",
      "2017-11-16  444.730347    0.001411  \n",
      "2017-11-17  442.586700   -0.004832  \n",
      "                 High        Low       Open      Close     Volume  Adj Close  \\\n",
      "Date                                                                           \n",
      "2017-11-13  72.720001  72.250000  72.449997  72.620003  1819800.0  71.340454   \n",
      "2017-11-14  72.970001  71.870003  71.930000  72.910004  1810500.0  71.625351   \n",
      "2017-11-15  73.680000  72.190002  72.529999  73.379997  2939000.0  72.087067   \n",
      "2017-11-16  74.309998  73.279999  73.750000  74.019997  1829100.0  72.864723   \n",
      "2017-11-17  74.440002  73.959999  74.050003  74.110001  2443900.0  72.953339   \n",
      "\n",
      "            log_return  \n",
      "Date                    \n",
      "2017-11-13         NaN  \n",
      "2017-11-14    0.003986  \n",
      "2017-11-15    0.006426  \n",
      "2017-11-16    0.010730  \n",
      "2017-11-17    0.001215  \n",
      "                 High        Low       Open      Close      Volume  Adj Close  \\\n",
      "Date                                                                            \n",
      "2017-11-13  45.080002  44.700001  44.919998  44.750000  16673900.0  37.120651   \n",
      "2017-11-14  44.849998  44.150002  44.689999  44.220001  20829900.0  36.681019   \n",
      "2017-11-15  44.380001  43.970001  44.330002  44.110001  15726500.0  36.589767   \n",
      "2017-11-16  44.880001  44.110001  44.209999  44.770000  13818000.0  37.137245   \n",
      "2017-11-17  45.770000  44.619999  44.630001  45.419998  18933200.0  37.676422   \n",
      "\n",
      "            log_return  \n",
      "Date                    \n",
      "2017-11-13         NaN  \n",
      "2017-11-14   -0.011914  \n",
      "2017-11-15   -0.002491  \n",
      "2017-11-16    0.014852  \n",
      "2017-11-17    0.014414  \n"
     ]
    }
   ],
   "source": [
    "for i in tickers:\n",
    "    i[\"log_return\"] = i[\"Adj Close\"].apply(np.log).diff()\n",
    "    print(i.head())"
   ]
  },
  {
   "cell_type": "code",
   "execution_count": 88,
   "id": "8a503342-a054-49a4-b345-9814cad0ca0a",
   "metadata": {
    "tags": []
   },
   "outputs": [
    {
     "name": "stdout",
     "output_type": "stream",
     "text": [
      "max       0.152290\n",
      "min      -0.169017\n",
      "mean      0.000561\n",
      "median    0.000464\n",
      "Name: log_return, dtype: float64\n",
      "max       0.224636\n",
      "min      -0.610210\n",
      "mean      0.001000\n",
      "median    0.002035\n",
      "Name: log_return, dtype: float64\n",
      "max       0.109769\n",
      "min      -0.135417\n",
      "mean      0.000303\n",
      "median    0.000687\n",
      "Name: log_return, dtype: float64\n",
      "max       0.131474\n",
      "min      -0.134347\n",
      "mean      0.000539\n",
      "median    0.000396\n",
      "Name: log_return, dtype: float64\n",
      "max       0.069607\n",
      "min      -0.069727\n",
      "mean      0.000025\n",
      "median    0.000183\n",
      "Name: log_return, dtype: float64\n"
     ]
    }
   ],
   "source": [
    "for i in tickers:\n",
    "    print(i[\"log_return\"].agg([max, min, np.mean, statistics.median]))"
   ]
  },
  {
   "cell_type": "code",
   "execution_count": 89,
   "id": "cd73e422-7b9c-4f6c-b53a-1b191344840b",
   "metadata": {
    "tags": []
   },
   "outputs": [
    {
     "name": "stdout",
     "output_type": "stream",
     "text": [
      "2020-03-24\n",
      "2022-03-16\n",
      "2020-03-24\n",
      "2020-04-06\n",
      "2020-03-26\n"
     ]
    }
   ],
   "source": [
    "for i in tickers:\n",
    "    print(i[\"log_return\"].idxmax())"
   ]
  },
  {
   "cell_type": "code",
   "execution_count": 90,
   "id": "d6cc0e55-2afb-4359-b1ec-81e0197d21f6",
   "metadata": {
    "tags": []
   },
   "outputs": [
    {
     "name": "stdout",
     "output_type": "stream",
     "text": [
      "2020-03-16\n",
      "2022-02-28\n",
      "2020-03-16\n",
      "2020-03-18\n",
      "2022-07-22\n"
     ]
    }
   ],
   "source": [
    "for i in tickers:\n",
    "    print(i[\"log_return\"].idxmin())"
   ]
  },
  {
   "cell_type": "code",
   "execution_count": 91,
   "id": "0c2a2058-530a-4631-bdba-58701d09a469",
   "metadata": {
    "tags": []
   },
   "outputs": [
    {
     "name": "stdout",
     "output_type": "stream",
     "text": [
      "74035636.41434263\n",
      "2177259.123505976\n",
      "2520865.577689243\n",
      "13583367.80876494\n",
      "86429830.83665338\n"
     ]
    }
   ],
   "source": [
    "for i in tickers:\n",
    "    print(i['Volume'].rolling(5).sum().mean())"
   ]
  },
  {
   "cell_type": "code",
   "execution_count": 92,
   "id": "2962faa0-46fa-459f-b8e5-77108a43ecb2",
   "metadata": {
    "tags": []
   },
   "outputs": [
    {
     "name": "stdout",
     "output_type": "stream",
     "text": [
      "0.7053153789478439\n",
      "1.2581490190728868\n",
      "0.3809917175347364\n",
      "0.6786688173777913\n",
      "0.031276424183519946\n"
     ]
    }
   ],
   "source": [
    "for i in tickers:\n",
    "    print(sum(i[\"log_return\"].dropna()))"
   ]
  },
  {
   "cell_type": "markdown",
   "id": "93948306-c5ec-40c9-9898-474f209212b9",
   "metadata": {},
   "source": [
    "highest total return - EPAM"
   ]
  },
  {
   "cell_type": "code",
   "execution_count": 93,
   "id": "7f21c763-33a1-4ab8-b943-3c758fd04e72",
   "metadata": {
    "tags": []
   },
   "outputs": [
    {
     "data": {
      "text/plain": [
       "<matplotlib.legend.Legend at 0x15358cdf390>"
      ]
     },
     "execution_count": 93,
     "metadata": {},
     "output_type": "execute_result"
    },
    {
     "data": {
      "image/png": "[encoded data removed]",
      "text/plain": [
       "<Figure size 640x480 with 1 Axes>"
      ]
     },
     "metadata": {},
     "output_type": "display_data"
    }
   ],
   "source": [
    "ax = CSX['log_return'].plot()\n",
    "\n",
    "for i in tickers[1:5]:\n",
    "    i['log_return'].plot(ax=ax)\n",
    "    \n",
    "ax.legend([\"CSX\", \"EPAM\", \"EQIX\", \"HLT\", \"VZ\"])"
   ]
  },
  {
   "cell_type": "code",
   "execution_count": 94,
   "id": "c996df50-b620-49f9-93ea-311bd06fe1cc",
   "metadata": {
    "tags": []
   },
   "outputs": [
    {
     "data": {
      "text/plain": [
       "<matplotlib.legend.Legend at 0x1535b010610>"
      ]
     },
     "execution_count": 94,
     "metadata": {},
     "output_type": "execute_result"
    },
    {
     "data": {
      "image/png": "[encoded data removed]",
      "text/plain": [
       "<Figure size 640x480 with 1 Axes>"
      ]
     },
     "metadata": {},
     "output_type": "display_data"
    }
   ],
   "source": [
    "ax = CSX['log_return'].hist(bins=30)\n",
    "\n",
    "for i in tickers[1:5]:\n",
    "    i['log_return'].hist(ax=ax,bins=30)\n",
    "    \n",
    "ax.legend([\"CSX\", \"EPAM\", \"EQIX\", \"HLT\", \"VZ\"])"
   ]
  },
  {
   "cell_type": "code",
   "execution_count": null,
   "id": "4eae7473-7336-4429-ad2f-1ba4aaa1f9e1",
   "metadata": {},
   "outputs": [],
   "source": []
  }
 ],
 "metadata": {
  "kernelspec": {
   "display_name": "Python 3 (ipykernel)",
   "language": "python",
   "name": "python3"
  },
  "language_info": {
   "codemirror_mode": {
    "name": "ipython",
    "version": 3
   },
   "file_extension": ".py",
   "mimetype": "text/x-python",
   "name": "python",
   "nbconvert_exporter": "python",
   "pygments_lexer": "ipython3",
   "version": "3.11.5"
  }
 },
 "nbformat": 4,
 "nbformat_minor": 5
}
